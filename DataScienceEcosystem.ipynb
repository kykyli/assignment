{
 "cells": [
  {
   "cell_type": "markdown",
   "id": "fbd135a2-90d3-4adf-95d4-c131ed9455be",
   "metadata": {},
   "source": [
    "# Title : Data Science Tools and Ecosystem"
   ]
  },
  {
   "cell_type": "markdown",
   "id": "16b449c2-81f3-4e8b-9fd4-fad5e1922f0a",
   "metadata": {},
   "source": [
    "### Introductions \n",
    "In this notebook, Data Science Tools and Ecosystem are summarized."
   ]
  },
  {
   "cell_type": "markdown",
   "id": "72a518d4-5c5a-40a6-b83e-399dac32a793",
   "metadata": {},
   "source": [
    "### Some of the popular languages that Data Scientists use are:\n",
    "1. Python\n",
    "2. R\n",
    "3. SQL\n",
    "4. Scala"
   ]
  },
  {
   "cell_type": "markdown",
   "id": "ee3736d0-d5cc-4bb9-89b7-801f55a16238",
   "metadata": {},
   "source": [
    "### Some of the commonly used libraries used by Data Scientists include:\n",
    "1. Pandas\n",
    "2. Numpy\n",
    "3. Matplotlib\n",
    "4. Seaborn\n",
    "5. Scikit-leran\n",
    "6. Keras\n",
    "7. TensorFlow\n",
    "8. PyTorch"
   ]
  },
  {
   "cell_type": "markdown",
   "id": "590697f3-2bb4-4460-a792-670b1ded7786",
   "metadata": {},
   "source": [
    "### Data Science Tools\n",
    "Data Science tools|examples \n",
    "----|----\n",
    "Comercial tools|Oracle,SQLServer,DB2,informatica, talend, Watson Studio Desktop,tableau,SPSS\n",
    "Open source|postgres, MySQL, elasticsearch, CouchDB, mongoDB, hadoop,Spark,kibana, git, jupeterLab"
   ]
  },
  {
   "cell_type": "markdown",
   "id": "1856bfb4-8e9c-4ae0-a4ce-8294101642b0",
   "metadata": {},
   "source": [
    "### Below are a few examples of evaluating arithmetic expressions in Python\n"
   ]
  },
  {
   "cell_type": "code",
   "execution_count": 7,
   "id": "08112b58-90fa-47ea-a608-e94f2e00660d",
   "metadata": {},
   "outputs": [
    {
     "data": {
      "text/plain": [
       "17"
      ]
     },
     "execution_count": 7,
     "metadata": {},
     "output_type": "execute_result"
    }
   ],
   "source": [
    "# This a simple arithmetic expression to mutiply then add integers\n",
    "(3*4)+5"
   ]
  },
  {
   "cell_type": "code",
   "execution_count": 8,
   "id": "610268a5-45de-4332-90ca-17e652a2a060",
   "metadata": {},
   "outputs": [
    {
     "name": "stdout",
     "output_type": "stream",
     "text": [
      "3.3333333333333335 hour\n"
     ]
    }
   ],
   "source": [
    "#This will convert 200 minutes to hours by diving by 60\n",
    "total_minutes = 200\n",
    "# Get hours with floor division\n",
    "hours = total_minutes / 60\n",
    "print(hours,'hour')"
   ]
  },
  {
   "cell_type": "markdown",
   "id": "01a257d4-b421-411b-a9cd-bf8d3ddb27c0",
   "metadata": {},
   "source": [
    "### Objective\n",
    "* List popular languages for Data Science\n",
    "* List libaries used by Data Science\n",
    "* List Tools for Data Science\n"
   ]
  },
  {
   "cell_type": "markdown",
   "id": "518bbdaa-939a-4c8f-88f6-5129c326f352",
   "metadata": {},
   "source": [
    "## Author\n",
    "Yuqi Li"
   ]
  },
  {
   "cell_type": "code",
   "execution_count": null,
   "id": "c10bae4d-aadd-4b19-ad67-4d664a29fe77",
   "metadata": {},
   "outputs": [],
   "source": []
  }
 ],
 "metadata": {
  "kernelspec": {
   "display_name": "Python 3 (ipykernel)",
   "language": "python",
   "name": "python3"
  },
  "language_info": {
   "codemirror_mode": {
    "name": "ipython",
    "version": 3
   },
   "file_extension": ".py",
   "mimetype": "text/x-python",
   "name": "python",
   "nbconvert_exporter": "python",
   "pygments_lexer": "ipython3",
   "version": "3.12.1"
  }
 },
 "nbformat": 4,
 "nbformat_minor": 5
}
